{
 "cells": [
  {
   "cell_type": "markdown",
   "metadata": {},
   "source": [
    "# TASK 2 TURUNAN"
   ]
  },
  {
   "cell_type": "code",
   "execution_count": 1,
   "metadata": {},
   "outputs": [],
   "source": [
    "import sympy as sym\n",
    "from sympy import *\n",
    "sym.init_printing()\n",
    "\n",
    "a, b, x, y, z = sym.symbols('a b x y z')"
   ]
  },
  {
   "cell_type": "markdown",
   "metadata": {},
   "source": [
    "sympy berfungsi sebagai matematika simbolik sehingga dapat menjalankan berbagai simbolik dalam mengakses kode perhitungan phyton. "
   ]
  },
  {
   "cell_type": "markdown",
   "metadata": {},
   "source": [
    "Menggunakan 'sym.Derivative' karena dalam task ini mengakses kode-kode yang berhubungan dengan perhitungan turunan.\n",
    "\n",
    "Operator yang digunakan yaitu:\n",
    "1. Penjumlahan dan pengurangan (+,-)\n",
    "2. Perkalian(*)\n",
    "3. Pembagian (/)\n",
    "4. Perpangkatan (**)\n",
    "\n",
    "Untuk mencetak soal menggunakan perintah 'print'.\n"
   ]
  },
  {
   "cell_type": "code",
   "execution_count": 2,
   "metadata": {},
   "outputs": [
    {
     "name": "stdout",
     "output_type": "stream",
     "text": [
      "Nomor 5 :\n"
     ]
    },
    {
     "data": {
      "image/png": "[encoded data removed]",
      "text/latex": [
       "$\\displaystyle \\frac{d}{d x} 7 \\sqrt{x}$"
      ],
      "text/plain": [
       "d       \n",
       "──(7⋅√x)\n",
       "dx      "
      ]
     },
     "execution_count": 2,
     "metadata": {},
     "output_type": "execute_result"
    }
   ],
   "source": [
    "print('Nomor 5 :')\n",
    "x = (sym.sqrt(x)) + (8*(sym.sqrt(x))) - (2*(sym.sqrt(x)))\n",
    "sym. Derivative (x)"
   ]
  },
  {
   "cell_type": "markdown",
   "metadata": {},
   "source": [
    "'sym.sqrt' digunakan untuk memunculkan tanda akar dalam integral"
   ]
  },
  {
   "cell_type": "code",
   "execution_count": 3,
   "metadata": {},
   "outputs": [
    {
     "name": "stdout",
     "output_type": "stream",
     "text": [
      "Nomor 10 :\n"
     ]
    },
    {
     "data": {
      "image/png": "[encoded data removed]",
      "text/latex": [
       "$\\displaystyle \\left(y - 4\\right) \\left(y^{2} + 2 y\\right)$"
      ],
      "text/plain": [
       "        ⎛ 2      ⎞\n",
       "(y - 4)⋅⎝y  + 2⋅y⎠"
      ]
     },
     "execution_count": 3,
     "metadata": {},
     "output_type": "execute_result"
    }
   ],
   "source": [
    "print ('Nomor 10 :')\n",
    "y = (y - 4)* (2*y + y**2)\n",
    "y"
   ]
  },
  {
   "cell_type": "markdown",
   "metadata": {},
   "source": [
    "Penggunaan 'print' bertujuan agar dapat mengontrol tampilan output."
   ]
  },
  {
   "cell_type": "code",
   "execution_count": 4,
   "metadata": {},
   "outputs": [
    {
     "data": {
      "image/png": "[encoded data removed]",
      "text/latex": [
       "$\\displaystyle y^{2} + 2 y + \\left(y - 4\\right) \\left(2 y + 2\\right)$"
      ],
      "text/plain": [
       " 2                          \n",
       "y  + 2⋅y + (y - 4)⋅(2⋅y + 2)"
      ]
     },
     "execution_count": 4,
     "metadata": {},
     "output_type": "execute_result"
    }
   ],
   "source": [
    "sym.Derivative(y).doit()"
   ]
  },
  {
   "cell_type": "markdown",
   "metadata": {},
   "source": [
    "\n",
    "\n",
    "Diakhir perintah untuk jawaban dari tiap soal, digunakannya 'doit()' agar perintah dapat dijalankan.\n"
   ]
  },
  {
   "cell_type": "code",
   "execution_count": 5,
   "metadata": {},
   "outputs": [
    {
     "data": {
      "image/png": "[encoded data removed]",
      "text/latex": [
       "$\\displaystyle y \\left(y - 4\\right) \\left(y + 2\\right)$"
      ],
      "text/plain": [
       "y⋅(y - 4)⋅(y + 2)"
      ]
     },
     "execution_count": 5,
     "metadata": {},
     "output_type": "execute_result"
    }
   ],
   "source": [
    "simplify(y)"
   ]
  },
  {
   "cell_type": "code",
   "execution_count": 15,
   "metadata": {},
   "outputs": [
    {
     "name": "stdout",
     "output_type": "stream",
     "text": [
      "Nomor 15 : \n"
     ]
    },
    {
     "data": {
      "image/png": "[encoded data removed]",
      "text/latex": [
       "$\\displaystyle - 4 \\sqrt{7} \\sqrt[4]{x} + \\frac{16}{7 \\sqrt{x}}$"
      ],
      "text/plain": [
       "       4 ___    16 \n",
       "- 4⋅√7⋅╲╱ x  + ────\n",
       "               7⋅√x"
      ]
     },
     "execution_count": 15,
     "metadata": {},
     "output_type": "execute_result"
    }
   ],
   "source": [
    "print ('Nomor 15 : ')\n",
    "g = (16/x) - 4*(sym.sqrt(x))\n",
    "g"
   ]
  },
  {
   "cell_type": "code",
   "execution_count": 7,
   "metadata": {},
   "outputs": [
    {
     "data": {
      "image/png": "[encoded data removed]",
      "text/latex": [
       "$\\displaystyle - \\frac{8}{7 x^{\\frac{3}{2}}} - \\frac{\\sqrt{7}}{x^{\\frac{3}{4}}}$"
      ],
      "text/plain": [
       "    8       √7 \n",
       "- ────── - ────\n",
       "     3/2    3/4\n",
       "  7⋅x      x   "
      ]
     },
     "execution_count": 7,
     "metadata": {},
     "output_type": "execute_result"
    }
   ],
   "source": [
    "sym.Derivative (g).doit()"
   ]
  },
  {
   "cell_type": "code",
   "execution_count": 8,
   "metadata": {},
   "outputs": [
    {
     "data": {
      "image/png": "[encoded data removed]",
      "text/latex": [
       "$\\displaystyle -4.0$"
      ],
      "text/plain": [
       "-4.00000000000000"
      ]
     },
     "execution_count": 8,
     "metadata": {},
     "output_type": "execute_result"
    }
   ],
   "source": [
    "z = (16/4)-4*(sym.sqrt(4))\n",
    "z"
   ]
  },
  {
   "cell_type": "code",
   "execution_count": 9,
   "metadata": {},
   "outputs": [
    {
     "data": {
      "image/png": "[encoded data removed]",
      "text/latex": [
       "$\\displaystyle -2.0$"
      ],
      "text/plain": [
       "-2.00000000000000"
      ]
     },
     "execution_count": 9,
     "metadata": {},
     "output_type": "execute_result"
    }
   ],
   "source": [
    "p = (-16/4**2) - (2/sym.sqrt(4))\n",
    "p"
   ]
  },
  {
   "cell_type": "code",
   "execution_count": 10,
   "metadata": {},
   "outputs": [
    {
     "name": "stdout",
     "output_type": "stream",
     "text": [
      "Jawaban nomor 15 :\n"
     ]
    },
    {
     "data": {
      "image/png": "[encoded data removed]",
      "text/latex": [
       "$\\displaystyle 4 - 14 \\sqrt{x}$"
      ],
      "text/plain": [
       "4 - 14⋅√x"
      ]
     },
     "execution_count": 10,
     "metadata": {},
     "output_type": "execute_result"
    }
   ],
   "source": [
    "print ('Jawaban nomor 15 :')\n",
    "-4 - 2*(x-4)"
   ]
  },
  {
   "cell_type": "code",
   "execution_count": 14,
   "metadata": {},
   "outputs": [
    {
     "name": "stdout",
     "output_type": "stream",
     "text": [
      "Nomor 20: \n"
     ]
    },
    {
     "data": {
      "image/png": "[encoded data removed]",
      "text/latex": [
       "$\\displaystyle \\frac{d}{d x} \\left(343 x^{\\frac{3}{2}} + 7 \\sqrt{x} - 245 x\\right)$"
      ],
      "text/plain": [
       "d ⎛     3/2               ⎞\n",
       "──⎝343⋅x    + 7⋅√x - 245⋅x⎠\n",
       "dx                         "
      ]
     },
     "execution_count": 14,
     "metadata": {},
     "output_type": "execute_result"
    }
   ],
   "source": [
    "print ('Nomor 20: ')\n",
    "sym.Derivative (x**3-5*x**2 + x)"
   ]
  },
  {
   "cell_type": "code",
   "execution_count": 13,
   "metadata": {},
   "outputs": [
    {
     "data": {
      "image/png": "[encoded data removed]",
      "text/latex": [
       "$\\displaystyle \\frac{1029 \\sqrt{x}}{2} - 245 + \\frac{7}{2 \\sqrt{x}}$"
      ],
      "text/plain": [
       "1029⋅√x          7  \n",
       "─────── - 245 + ────\n",
       "   2            2⋅√x"
      ]
     },
     "execution_count": 13,
     "metadata": {},
     "output_type": "execute_result"
    }
   ],
   "source": [
    "sym.Derivative  (x**3 - 5*x**2 + x).doit()"
   ]
  },
  {
   "cell_type": "code",
   "execution_count": 16,
   "metadata": {},
   "outputs": [
    {
     "data": {
      "image/png": "[encoded data removed]",
      "text/latex": [
       "$\\displaystyle 5 - \\frac{\\sqrt{34}}{3}$"
      ],
      "text/plain": [
       "    √34\n",
       "5 - ───\n",
       "     3 "
      ]
     },
     "execution_count": 16,
     "metadata": {},
     "output_type": "execute_result"
    }
   ],
   "source": [
    "i = 5 - (sym.sqrt(34)/3)\n",
    "i"
   ]
  },
  {
   "cell_type": "code",
   "execution_count": 17,
   "metadata": {},
   "outputs": [
    {
     "data": {
      "image/png": "[encoded data removed]",
      "text/latex": [
       "$\\displaystyle \\frac{\\sqrt{34}}{3} + 5$"
      ],
      "text/plain": [
       "√34    \n",
       "─── + 5\n",
       " 3     "
      ]
     },
     "execution_count": 17,
     "metadata": {},
     "output_type": "execute_result"
    }
   ],
   "source": [
    "d = 5 + (sym.sqrt(34)/3)\n",
    "d"
   ]
  },
  {
   "cell_type": "code",
   "execution_count": 18,
   "metadata": {},
   "outputs": [
    {
     "data": {
      "image/png": "[encoded data removed]",
      "text/latex": [
       "$\\displaystyle -0.2769836666666666$"
      ],
      "text/plain": [
       "-0.2769836666666666"
      ]
     },
     "execution_count": 18,
     "metadata": {},
     "output_type": "execute_result"
    }
   ],
   "source": [
    "x1 = (5 - 5.830951) /3\n",
    "x1"
   ]
  },
  {
   "cell_type": "code",
   "execution_count": 19,
   "metadata": {},
   "outputs": [
    {
     "data": {
      "image/png": "[encoded data removed]",
      "text/latex": [
       "$\\displaystyle 3.6103169999999998$"
      ],
      "text/plain": [
       "3.6103169999999998"
      ]
     },
     "execution_count": 19,
     "metadata": {},
     "output_type": "execute_result"
    }
   ],
   "source": [
    "x2 = (5 + 5.830951) /3\n",
    "x2"
   ]
  },
  {
   "cell_type": "code",
   "execution_count": null,
   "metadata": {},
   "outputs": [],
   "source": []
  }
 ],
 "metadata": {
  "kernelspec": {
   "display_name": "Python 3",
   "language": "python",
   "name": "python3"
  },
  "language_info": {
   "codemirror_mode": {
    "name": "ipython",
    "version": 3
   },
   "file_extension": ".py",
   "mimetype": "text/x-python",
   "name": "python",
   "nbconvert_exporter": "python",
   "pygments_lexer": "ipython3",
   "version": "3.7.3"
  }
 },
 "nbformat": 4,
 "nbformat_minor": 2
}
